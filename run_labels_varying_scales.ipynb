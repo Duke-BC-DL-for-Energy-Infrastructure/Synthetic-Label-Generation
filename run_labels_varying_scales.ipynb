{
 "cells": [
  {
   "cell_type": "code",
   "execution_count": 68,
   "metadata": {},
   "outputs": [
    {
     "name": "stdout",
     "output_type": "stream",
     "text": [
      "python preprocess_syn_xview_background_gt_labels.py --syn_data_dir \"C:/Users/Edward/Documents/CityEngine/Default Workspace/BC Updated Mar 22/images\\turbine_sizetest_20\\color_all_annos_step608\" --syn_annos_dir \"output_labels\\turbine_sizetest_20\" --syn_box_dir \"output_boxes/turbine_sizetest_20\" --syn_txt_dir \"output_txts/turbine_sizetest_20\"\n",
      "python preprocess_syn_xview_background_gt_labels.py --syn_data_dir \"C:/Users/Edward/Documents/CityEngine/Default Workspace/BC Updated Mar 22/images\\turbine_sizetest_30\\color_all_annos_step608\" --syn_annos_dir \"output_labels\\turbine_sizetest_30\" --syn_box_dir \"output_boxes/turbine_sizetest_30\" --syn_txt_dir \"output_txts/turbine_sizetest_30\"\n",
      "python preprocess_syn_xview_background_gt_labels.py --syn_data_dir \"C:/Users/Edward/Documents/CityEngine/Default Workspace/BC Updated Mar 22/images\\turbine_sizetest_40\\color_all_annos_step608\" --syn_annos_dir \"output_labels\\turbine_sizetest_40\" --syn_box_dir \"output_boxes/turbine_sizetest_40\" --syn_txt_dir \"output_txts/turbine_sizetest_40\"\n",
      "python preprocess_syn_xview_background_gt_labels.py --syn_data_dir \"C:/Users/Edward/Documents/CityEngine/Default Workspace/BC Updated Mar 22/images\\turbine_sizetest_50\\color_all_annos_step608\" --syn_annos_dir \"output_labels\\turbine_sizetest_50\" --syn_box_dir \"output_boxes/turbine_sizetest_50\" --syn_txt_dir \"output_txts/turbine_sizetest_50\"\n",
      "python preprocess_syn_xview_background_gt_labels.py --syn_data_dir \"C:/Users/Edward/Documents/CityEngine/Default Workspace/BC Updated Mar 22/images\\turbine_sizetest_60\\color_all_annos_step608\" --syn_annos_dir \"output_labels\\turbine_sizetest_60\" --syn_box_dir \"output_boxes/turbine_sizetest_60\" --syn_txt_dir \"output_txts/turbine_sizetest_60\"\n",
      "python preprocess_syn_xview_background_gt_labels.py --syn_data_dir \"C:/Users/Edward/Documents/CityEngine/Default Workspace/BC Updated Mar 22/images\\turbine_sizetest_70\\color_all_annos_step608\" --syn_annos_dir \"output_labels\\turbine_sizetest_70\" --syn_box_dir \"output_boxes/turbine_sizetest_70\" --syn_txt_dir \"output_txts/turbine_sizetest_70\"\n",
      "python preprocess_syn_xview_background_gt_labels.py --syn_data_dir \"C:/Users/Edward/Documents/CityEngine/Default Workspace/BC Updated Mar 22/images\\turbine_sizetest_80\\color_all_annos_step608\" --syn_annos_dir \"output_labels\\turbine_sizetest_80\" --syn_box_dir \"output_boxes/turbine_sizetest_80\" --syn_txt_dir \"output_txts/turbine_sizetest_80\"\n",
      "python preprocess_syn_xview_background_gt_labels.py --syn_data_dir \"C:/Users/Edward/Documents/CityEngine/Default Workspace/BC Updated Mar 22/images\\turbine_sizetest_90\\color_all_annos_step608\" --syn_annos_dir \"output_labels\\turbine_sizetest_90\" --syn_box_dir \"output_boxes/turbine_sizetest_90\" --syn_txt_dir \"output_txts/turbine_sizetest_90\"\n",
      "python preprocess_syn_xview_background_gt_labels.py --syn_data_dir \"C:/Users/Edward/Documents/CityEngine/Default Workspace/BC Updated Mar 22/images\\turbine_sizetest_100\\color_all_annos_step608\" --syn_annos_dir \"output_labels\\turbine_sizetest_100\" --syn_box_dir \"output_boxes/turbine_sizetest_100\" --syn_txt_dir \"output_txts/turbine_sizetest_100\"\n",
      "python preprocess_syn_xview_background_gt_labels.py --syn_data_dir \"C:/Users/Edward/Documents/CityEngine/Default Workspace/BC Updated Mar 22/images\\turbine_sizetest_110\\color_all_annos_step608\" --syn_annos_dir \"output_labels\\turbine_sizetest_110\" --syn_box_dir \"output_boxes/turbine_sizetest_110\" --syn_txt_dir \"output_txts/turbine_sizetest_110\"\n",
      "python preprocess_syn_xview_background_gt_labels.py --syn_data_dir \"C:/Users/Edward/Documents/CityEngine/Default Workspace/BC Updated Mar 22/images\\turbine_sizetest_120\\color_all_annos_step608\" --syn_annos_dir \"output_labels\\turbine_sizetest_120\" --syn_box_dir \"output_boxes/turbine_sizetest_120\" --syn_txt_dir \"output_txts/turbine_sizetest_120\"\n",
      "python preprocess_syn_xview_background_gt_labels.py --syn_data_dir \"C:/Users/Edward/Documents/CityEngine/Default Workspace/BC Updated Mar 22/images\\turbine_sizetest_130\\color_all_annos_step608\" --syn_annos_dir \"output_labels\\turbine_sizetest_130\" --syn_box_dir \"output_boxes/turbine_sizetest_130\" --syn_txt_dir \"output_txts/turbine_sizetest_130\"\n",
      "python preprocess_syn_xview_background_gt_labels.py --syn_data_dir \"C:/Users/Edward/Documents/CityEngine/Default Workspace/BC Updated Mar 22/images\\turbine_sizetest_140\\color_all_annos_step608\" --syn_annos_dir \"output_labels\\turbine_sizetest_140\" --syn_box_dir \"output_boxes/turbine_sizetest_140\" --syn_txt_dir \"output_txts/turbine_sizetest_140\"\n",
      "python preprocess_syn_xview_background_gt_labels.py --syn_data_dir \"C:/Users/Edward/Documents/CityEngine/Default Workspace/BC Updated Mar 22/images\\turbine_sizetest_150\\color_all_annos_step608\" --syn_annos_dir \"output_labels\\turbine_sizetest_150\" --syn_box_dir \"output_boxes/turbine_sizetest_150\" --syn_txt_dir \"output_txts/turbine_sizetest_150\"\n"
     ]
    }
   ],
   "source": [
    "import os\n",
    "import subprocess\n",
    "\n",
    "for size in range(20, 160, 10):\n",
    "    end_dir = f'turbine_sizetest_{size}'\n",
    "    dir_dict = {'syn_data_dir' : 'C:/Users/Edward/Documents/CityEngine/Default Workspace/BC Updated Mar 22/images',\n",
    "                'syn_annos_dir' : 'output_labels',\n",
    "                'syn_box_dir' : 'output_boxes/',\n",
    "                'syn_txt_dir' : 'output_txts/'}\n",
    "\n",
    "    call_str = []\n",
    "    for k, v in dir_dict.items():\n",
    "        if k == 'syn_data_dir':\n",
    "            path = os.path.join(v, end_dir, 'color_all_annos_step608')\n",
    "            call_str.append('--' + k)\n",
    "            call_str.append('\"' + str(path) + '\"')\n",
    "        else:\n",
    "            path = os.path.join(v, end_dir)\n",
    "            if not os.path.exists(path):\n",
    "                os.mkdir(path)\n",
    "            call_str.append('--' + k)\n",
    "            call_str.append('\"' + str(path) + '\"')\n",
    "\n",
    "    shell_command = f'python preprocess_syn_xview_background_gt_labels.py {\" \".join(call_str)}'\n",
    "    print(shell_command)\n",
    "    os.system(shell_command)\n",
    "# result = subprocess.check_output(shell_command, shell=True)\n",
    "# print(result)\n",
    "\n",
    "# os.system(f'python3 preprocess_syn_xview_background_gt_labels {syn_data_dir} {syn_annos_dir} {syn_box_dir} {syn_text_dir}')\n",
    "\n",
    "# for k in range(20, 160, 10):\n",
    "#     os.system('echo nvidia-smi')"
   ]
  },
  {
   "cell_type": "code",
   "execution_count": null,
   "metadata": {},
   "outputs": [],
   "source": []
  }
 ],
 "metadata": {
  "kernelspec": {
   "display_name": "Python 3",
   "language": "python",
   "name": "python3"
  },
  "language_info": {
   "codemirror_mode": {
    "name": "ipython",
    "version": 3
   },
   "file_extension": ".py",
   "mimetype": "text/x-python",
   "name": "python",
   "nbconvert_exporter": "python",
   "pygments_lexer": "ipython3",
   "version": "3.7.6"
  }
 },
 "nbformat": 4,
 "nbformat_minor": 4
}
